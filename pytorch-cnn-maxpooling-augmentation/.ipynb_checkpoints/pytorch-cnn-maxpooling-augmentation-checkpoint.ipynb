{
 "cells": [
  {
   "cell_type": "code",
   "execution_count": 1,
   "id": "a2867e6a-b017-43ae-a570-c6b13958b362",
   "metadata": {},
   "outputs": [],
   "source": [
    "import random\n",
    "import tqdm\n",
    "import torch\n",
    "import torch.nn as nn\n",
    "import torch.nn.functional as F\n",
    "import torchvision\n",
    "from torch.utils.data import DataLoader\n",
    "from torchsummary import summary\n",
    "from torchvision import transforms\n",
    "import matplotlib.pyplot as plt"
   ]
  },
  {
   "cell_type": "code",
   "execution_count": 2,
   "id": "97a1d7b8-2bc8-45cc-bbf1-a51728789da9",
   "metadata": {},
   "outputs": [],
   "source": [
    "%matplotlib inline"
   ]
  },
  {
   "cell_type": "code",
   "execution_count": 3,
   "id": "e6671f81-4928-49a0-a9d9-e61cb31f8a16",
   "metadata": {},
   "outputs": [],
   "source": [
    "plt.style.use(\"bmh\")\n",
    "plt.rcParams[\"figure.figsize\"] = [1.5, 1.5]\n",
    "plt.rcParams[\"axes.grid\"] = False"
   ]
  },
  {
   "cell_type": "code",
   "execution_count": 4,
   "id": "2c78112b-f062-435e-bb72-99417fa70512",
   "metadata": {},
   "outputs": [
    {
     "name": "stdout",
     "output_type": "stream",
     "text": [
      "PyTorch: 1.13.1\n",
      "TorchVision: 0.14.1\n"
     ]
    }
   ],
   "source": [
    "print(f\"PyTorch: {torch.__version__}\")\n",
    "print(f\"TorchVision: {torchvision.__version__}\")"
   ]
  },
  {
   "cell_type": "code",
   "execution_count": 5,
   "id": "c643e239-c9bf-474e-8e03-969ab6d37707",
   "metadata": {},
   "outputs": [],
   "source": [
    "device = torch.device(\"mps\")\n",
    "n_epochs = 10\n",
    "n_class = 10\n",
    "num_workers = 10"
   ]
  },
  {
   "cell_type": "code",
   "execution_count": 6,
   "id": "9c9faa73-b579-4b30-9d2f-ae86b3f23aac",
   "metadata": {},
   "outputs": [],
   "source": [
    "train_transformer = transforms.Compose([\n",
    "    transforms.RandomAffine(degrees=4, translate=(0.1, 0.1), scale=(0.9, 1.1)),\n",
    "    transforms.ToTensor()\n",
    "])\n",
    "data_train = torchvision.datasets.MNIST(\n",
    "    \"~/Data\", download=True, train=True, transform=train_transformer\n",
    ")\n",
    "data_test = torchvision.datasets.MNIST(\n",
    "    \"~/Data\", download=True, train=False, transform=transforms.ToTensor()\n",
    ")"
   ]
  },
  {
   "cell_type": "code",
   "execution_count": 7,
   "id": "31e6cc52-6fa5-487a-bf2f-631602edf821",
   "metadata": {},
   "outputs": [
    {
     "data": {
      "text/plain": [
       "torch.Size([1, 28, 28])"
      ]
     },
     "execution_count": 7,
     "metadata": {},
     "output_type": "execute_result"
    }
   ],
   "source": [
    "data_train[0][0].size()"
   ]
  },
  {
   "cell_type": "code",
   "execution_count": 8,
   "id": "377029ff-92c1-4877-8ba7-56a4c4e8f562",
   "metadata": {},
   "outputs": [
    {
     "data": {
      "image/png": "[encoded data removed]",
      "text/plain": [
       "<Figure size 150x150 with 1 Axes>"
      ]
     },
     "metadata": {},
     "output_type": "display_data"
    }
   ],
   "source": [
    "plt.imshow(data_train[0][0].reshape(28, 28, 1), cmap=\"gray\")\n",
    "plt.show()"
   ]
  },
  {
   "cell_type": "code",
   "execution_count": 9,
   "id": "fa111228-fa0e-4d0e-882d-0ec04ec553d5",
   "metadata": {},
   "outputs": [
    {
     "name": "stderr",
     "output_type": "stream",
     "text": [
      "/Users/quangtiencs/miniconda3/envs/pytorch-env/lib/python3.10/site-packages/torch/utils/data/dataloader.py:554: UserWarning: This DataLoader will create 10 worker processes in total. Our suggested max number of worker in current system is 8 (`cpuset` is not taken into account), which is smaller than what this DataLoader is going to create. Please be aware that excessive worker creation might get DataLoader running slow or even freeze, lower the worker number to avoid potential slowness/freeze if necessary.\n",
      "  warnings.warn(_create_warning_msg(\n"
     ]
    }
   ],
   "source": [
    "ds_train = DataLoader(data_train, batch_size=64, shuffle=True, num_workers=num_workers)\n",
    "ds_test = DataLoader(data_test, batch_size=64, shuffle=True, num_workers=num_workers)"
   ]
  },
  {
   "cell_type": "code",
   "execution_count": 10,
   "id": "f00cac01-39a5-44ee-be02-f41fe2fdc1ad",
   "metadata": {},
   "outputs": [],
   "source": [
    "class MNISTCNNModel(nn.Module):\n",
    "    def __init__(self, c, f, k):\n",
    "        super().__init__()\n",
    "\n",
    "        self.model = nn.Sequential(\n",
    "            nn.Conv2d(c, f, k, padding=k // 2),\n",
    "            nn.Tanh(),\n",
    "            nn.Conv2d(c * f, f, k, padding=k // 2),\n",
    "            nn.MaxPool2d(2),\n",
    "            nn.Flatten(),\n",
    "            nn.LazyLinear(n_class),\n",
    "        )\n",
    "\n",
    "    def forward(self, x):\n",
    "        return self.model(x)"
   ]
  },
  {
   "cell_type": "code",
   "execution_count": 11,
   "id": "c24f8075-d75f-41a5-a73c-06db6204cc6e",
   "metadata": {},
   "outputs": [],
   "source": [
    "def prediction(model, x):\n",
    "    x = x.to(device)\n",
    "    with torch.no_grad():\n",
    "        logits = model(x)\n",
    "        probs = F.softmax(logits, dim=1)\n",
    "        return probs"
   ]
  },
  {
   "cell_type": "code",
   "execution_count": 12,
   "id": "bfbae7e0-82d4-468e-b50d-8aedba669074",
   "metadata": {},
   "outputs": [
    {
     "name": "stderr",
     "output_type": "stream",
     "text": [
      "/Users/quangtiencs/miniconda3/envs/pytorch-env/lib/python3.10/site-packages/torch/nn/modules/lazy.py:180: UserWarning: Lazy modules are a new feature under heavy development so changes to the API or functionality can happen at any moment.\n",
      "  warnings.warn('Lazy modules are a new feature under heavy development '\n",
      "Epoch: 100%|███████████████████████████████████████████████████████████████████████████████| 10/10 [01:10<00:00,  7.06s/it]\n"
     ]
    }
   ],
   "source": [
    "model = MNISTCNNModel(c=1, f=16, k=3).to(device)\n",
    "\n",
    "loss_func = nn.CrossEntropyLoss()\n",
    "optimizer = torch.optim.Adam(model.parameters())\n",
    "history_loss = []\n",
    "\n",
    "for epoch in tqdm.tqdm(range(n_epochs), desc=\"Epoch\"):\n",
    "    model = model.train()\n",
    "\n",
    "    for x_batch, y_batch in ds_train:\n",
    "        x_batch = x_batch.to(device)\n",
    "        y_batch = y_batch.to(device)\n",
    "\n",
    "        y_hat = model(x_batch)\n",
    "\n",
    "        # compute loss\n",
    "        loss = loss_func(y_hat, y_batch)\n",
    "\n",
    "        if model.training:\n",
    "            loss.backward()\n",
    "            optimizer.step()\n",
    "            optimizer.zero_grad()\n",
    "\n",
    "        history_loss.append(loss.item())"
   ]
  },
  {
   "cell_type": "code",
   "execution_count": 13,
   "id": "63957dee-6fd2-4780-861a-64d82b637a46",
   "metadata": {},
   "outputs": [],
   "source": [
    "x_test = ds_test.dataset.data.reshape(len(ds_test.dataset), 1, 28, 28) / 255.0\n",
    "y_hat_test_prob = prediction(model, x_test)"
   ]
  },
  {
   "cell_type": "code",
   "execution_count": 14,
   "id": "6eeaef11-991a-4c45-8520-417f69bfe79a",
   "metadata": {},
   "outputs": [],
   "source": [
    "y_hat_test = torch.argmax(y_hat_test_prob, dim=1)"
   ]
  },
  {
   "cell_type": "code",
   "execution_count": 15,
   "id": "c904d736-6919-454b-adde-5cacdc041031",
   "metadata": {},
   "outputs": [],
   "source": [
    "y_true_test = ds_test.dataset.targets.to(device)"
   ]
  },
  {
   "cell_type": "code",
   "execution_count": 16,
   "id": "f83968cd-dc1b-40a0-b5fb-9ac9a0e7f820",
   "metadata": {},
   "outputs": [
    {
     "name": "stdout",
     "output_type": "stream",
     "text": [
      "Accuracy: 0.9799\n"
     ]
    }
   ],
   "source": [
    "print(f\"Accuracy: {(y_hat_test == y_true_test).to('cpu').numpy().mean()}\")"
   ]
  },
  {
   "cell_type": "code",
   "execution_count": 17,
   "id": "a50ce5bf-437b-467b-9b3d-f8498fe781ed",
   "metadata": {},
   "outputs": [
    {
     "name": "stderr",
     "output_type": "stream",
     "text": [
      "/Users/quangtiencs/miniconda3/envs/pytorch-env/lib/python3.10/site-packages/torch/_tensor_str.py:115: UserWarning: The operator 'aten::nonzero' is not currently supported on the MPS backend and will fall back to run on the CPU. This may have performance implications. (Triggered internally at /Users/runner/work/pytorch/pytorch/pytorch/aten/src/ATen/mps/MPSFallback.mm:11.)\n",
      "  nonzero_finite_vals = torch.masked_select(\n"
     ]
    },
    {
     "name": "stdout",
     "output_type": "stream",
     "text": [
      "Probabilities: tensor([[9.9997e-01, 1.3660e-15, 2.6571e-09, 8.0067e-12, 2.8237e-12, 2.6454e-08,\n",
      "         2.6362e-05, 3.6525e-12, 1.0188e-08, 1.3998e-07]], device='mps:0')\n",
      "Classify: 0\n"
     ]
    },
    {
     "data": {
      "image/png": "[encoded data removed]",
      "text/plain": [
       "<Figure size 150x150 with 1 Axes>"
      ]
     },
     "metadata": {},
     "output_type": "display_data"
    }
   ],
   "source": [
    "idx = random.randint(0, len(x_test))\n",
    "print(f\"Probabilities: {prediction(model, x_test[idx].reshape(1, 1, 28, 28))}\")\n",
    "print(f\"Classify: {int(torch.argmax(prediction(model, x_test[idx].reshape(1, 1, 28, 28)), dim=1))}\")\n",
    "plt.imshow(data_test[idx][0].reshape(28, 28, 1), cmap=\"gray\")\n",
    "plt.show()"
   ]
  }
 ],
 "metadata": {
  "kernelspec": {
   "display_name": "Python 3 (ipykernel)",
   "language": "python",
   "name": "python3"
  },
  "language_info": {
   "codemirror_mode": {
    "name": "ipython",
    "version": 3
   },
   "file_extension": ".py",
   "mimetype": "text/x-python",
   "name": "python",
   "nbconvert_exporter": "python",
   "pygments_lexer": "ipython3",
   "version": "3.10.9"
  }
 },
 "nbformat": 4,
 "nbformat_minor": 5
}
