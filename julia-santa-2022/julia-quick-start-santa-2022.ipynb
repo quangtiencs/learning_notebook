{
 "cells": [
  {
   "cell_type": "code",
   "execution_count": 1,
   "id": "58fa263e-2e4b-4f9a-82ab-6a27e71891f0",
   "metadata": {},
   "outputs": [],
   "source": [
    "using CSV\n",
    "using DataFrames\n",
    "using Statistics\n",
    "using ProgressBars\n",
    "using LinearAlgebra\n",
    "using BenchmarkTools\n",
    "using TimerOutputs"
   ]
  },
  {
   "cell_type": "code",
   "execution_count": 2,
   "id": "e47d7220-c30a-47c3-88da-d40b4e89b466",
   "metadata": {},
   "outputs": [
    {
     "data": {
      "text/plain": [
       "\"santa-2022/image.csv\""
      ]
     },
     "execution_count": 2,
     "metadata": {},
     "output_type": "execute_result"
    }
   ],
   "source": [
    "ROOT_DIR = \"santa-2022\"\n",
    "IMAGE_FILE = \"$ROOT_DIR/image.csv\""
   ]
  },
  {
   "cell_type": "code",
   "execution_count": 3,
   "id": "3df428d6-25df-4916-96a9-b26b06bf170d",
   "metadata": {},
   "outputs": [
    {
     "data": {
      "text/html": [
       "<div><div style = \"float: left;\"><span>DataFrameRow (5 columns)</span></div><div style = \"clear: both;\"></div></div><div class = \"data-frame\" style = \"overflow-x: scroll;\"><table class = \"data-frame\" style = \"margin-bottom: 6px;\"><thead><tr class = \"header\"><th class = \"rowLabel\" style = \"font-weight: bold; text-align: right;\">Row</th><th style = \"text-align: left;\">x</th><th style = \"text-align: left;\">y</th><th style = \"text-align: left;\">r</th><th style = \"text-align: left;\">g</th><th style = \"text-align: left;\">b</th></tr><tr class = \"subheader headerLastRow\"><th class = \"rowLabel\" style = \"font-weight: bold; text-align: right;\"></th><th title = \"Int16\" style = \"text-align: left;\">Int16</th><th title = \"Int16\" style = \"text-align: left;\">Int16</th><th title = \"Float32\" style = \"text-align: left;\">Float32</th><th title = \"Float32\" style = \"text-align: left;\">Float32</th><th title = \"Float32\" style = \"text-align: left;\">Float32</th></tr></thead><tbody><tr><td class = \"rowLabel\" style = \"font-weight: bold; text-align: right;\">1</td><td style = \"text-align: right;\">-128</td><td style = \"text-align: right;\">128</td><td style = \"text-align: right;\">0.6</td><td style = \"text-align: right;\">0.619608</td><td style = \"text-align: right;\">0.654902</td></tr></tbody></table></div>"
      ],
      "text/latex": [
       "\\begin{tabular}{r|ccccc}\n",
       "\t& x & y & r & g & b\\\\\n",
       "\t\\hline\n",
       "\t& Int16 & Int16 & Float32 & Float32 & Float32\\\\\n",
       "\t\\hline\n",
       "\t1 & -128 & 128 & 0.6 & 0.619608 & 0.654902 \\\\\n",
       "\\end{tabular}\n"
      ],
      "text/plain": [
       "\u001b[1mDataFrameRow\u001b[0m\n",
       "\u001b[1m Row \u001b[0m│\u001b[1m x     \u001b[0m\u001b[1m y     \u001b[0m\u001b[1m r       \u001b[0m\u001b[1m g        \u001b[0m\u001b[1m b        \u001b[0m\n",
       "     │\u001b[90m Int16 \u001b[0m\u001b[90m Int16 \u001b[0m\u001b[90m Float32 \u001b[0m\u001b[90m Float32  \u001b[0m\u001b[90m Float32  \u001b[0m\n",
       "─────┼───────────────────────────────────────────\n",
       "   1 │  -128    128      0.6  0.619608  0.654902"
      ]
     },
     "execution_count": 3,
     "metadata": {},
     "output_type": "execute_result"
    }
   ],
   "source": [
    "df = DataFrame(CSV.File(IMAGE_FILE, typemap=Dict(Int64=>Int16, Float64=>Float32)))\n",
    "first(df)"
   ]
  },
  {
   "cell_type": "code",
   "execution_count": 4,
   "id": "f9e8499b-e644-43c7-90a3-992ec36e550e",
   "metadata": {},
   "outputs": [
    {
     "data": {
      "text/plain": [
       "cartesian_to_array (generic function with 1 method)"
      ]
     },
     "execution_count": 4,
     "metadata": {},
     "output_type": "execute_result"
    }
   ],
   "source": [
    "function cartesian_to_array(x, y, shape)::Vector{Int16}\n",
    "    m, n = shape[1:2]\n",
    "    i = (n - 1) ÷ 2 - y\n",
    "    j = (n - 1) ÷ 2 + x\n",
    "    \n",
    "    if i < 0 || i >= m || j < 0 || j >= n\n",
    "        throw(ErrorException(\"Coordinates not within given dimensions.\"))\n",
    "    end\n",
    "    return [i, j]\n",
    "end"
   ]
  },
  {
   "cell_type": "code",
   "execution_count": 5,
   "id": "d7b54cda-d507-4525-bcfb-3ae1898cb7ab",
   "metadata": {},
   "outputs": [
    {
     "data": {
      "text/plain": [
       "array_to_cartesian (generic function with 1 method)"
      ]
     },
     "execution_count": 5,
     "metadata": {},
     "output_type": "execute_result"
    }
   ],
   "source": [
    "function array_to_cartesian(i, j, shape)\n",
    "    m, n = shape[1:2]\n",
    "    \n",
    "    if i < 0 || i >= m || j < 0 || j >= n\n",
    "        throw(ErrorException(\"Coordinates not within given dimensions.\"))\n",
    "    end\n",
    "    \n",
    "    y = (n - 1) ÷ 2 - i\n",
    "    x = j - (n - 1) ÷ 2\n",
    "    return x, y\n",
    "end"
   ]
  },
  {
   "cell_type": "code",
   "execution_count": 6,
   "id": "a5797874-ee1e-4b74-a448-68468b2e32e7",
   "metadata": {},
   "outputs": [
    {
     "data": {
      "text/plain": [
       "3-element Vector{Int64}:\n",
       " 9\n",
       " 9\n",
       " 3"
      ]
     },
     "execution_count": 6,
     "metadata": {},
     "output_type": "execute_result"
    }
   ],
   "source": [
    "point = [1, 8]\n",
    "shape = [9, 9, 3]"
   ]
  },
  {
   "cell_type": "code",
   "execution_count": 7,
   "id": "c8cce09d-5724-4d59-bf9f-2ce0785b0d5d",
   "metadata": {},
   "outputs": [
    {
     "data": {
      "text/plain": [
       "(4, 3)"
      ]
     },
     "execution_count": 7,
     "metadata": {},
     "output_type": "execute_result"
    }
   ],
   "source": [
    "array_to_cartesian((1, 8)..., shape)"
   ]
  },
  {
   "cell_type": "code",
   "execution_count": 8,
   "id": "7d90c2d2-1071-443d-8b23-b56eea57ccf3",
   "metadata": {},
   "outputs": [
    {
     "data": {
      "text/plain": [
       "2-element Vector{Int16}:\n",
       " 1\n",
       " 8"
      ]
     },
     "execution_count": 8,
     "metadata": {},
     "output_type": "execute_result"
    }
   ],
   "source": [
    "cartesian_to_array(array_to_cartesian(point..., shape)..., shape)"
   ]
  },
  {
   "cell_type": "code",
   "execution_count": 9,
   "id": "f894bfa4-c483-43cf-a069-a7a26a9ddad1",
   "metadata": {},
   "outputs": [
    {
     "data": {
      "text/plain": [
       "true"
      ]
     },
     "execution_count": 9,
     "metadata": {},
     "output_type": "execute_result"
    }
   ],
   "source": [
    "cartesian_to_array(array_to_cartesian(point..., shape)..., shape) == point"
   ]
  },
  {
   "cell_type": "code",
   "execution_count": 10,
   "id": "c2dca1e0-e03c-4691-a512-26b9dd9f8a37",
   "metadata": {},
   "outputs": [
    {
     "data": {
      "text/plain": [
       "df_to_image (generic function with 1 method)"
      ]
     },
     "execution_count": 10,
     "metadata": {},
     "output_type": "execute_result"
    }
   ],
   "source": [
    "function df_to_image(df)\n",
    "    d = Dict{Tuple{Int16, Int16}, Vector{Float32}}()\n",
    "    for r in eachrow(df)\n",
    "        x, y = r.x, r.y\n",
    "        v = r[[\"r\", \"g\", \"b\"]] |> collect\n",
    "        d[x,y] = v\n",
    "    end\n",
    "    \n",
    "    return d\n",
    "end"
   ]
  },
  {
   "cell_type": "code",
   "execution_count": 11,
   "id": "47f3a6eb-08e4-4ae5-8477-fca93b981913",
   "metadata": {},
   "outputs": [
    {
     "data": {
      "text/plain": [
       "Dict{Tuple{Int16, Int16}, Vector{Float32}} with 66049 entries:\n",
       "  (-125, -62) => [0.552941, 0.686275, 0.92549]\n",
       "  (-112, 116) => [0.854902, 0.901961, 0.980392]\n",
       "  (-81, 79)   => [0.913725, 0.490196, 0.34902]\n",
       "  (19, -90)   => [0.294118, 0.572549, 0.298039]\n",
       "  (98, -42)   => [0.584314, 0.709804, 0.929412]\n",
       "  (7, -27)    => [0.992157, 0.94902, 0.666667]\n",
       "  (48, 61)    => [0.756863, 0.835294, 0.964706]\n",
       "  (-77, -31)  => [0.858824, 0.858824, 0.854902]\n",
       "  (-62, 37)   => [0.356863, 0.352941, 0.34902]\n",
       "  (52, 32)    => [0.784314, 0.85098, 0.952941]\n",
       "  (25, 73)    => [0.780392, 0.85098, 0.968627]\n",
       "  (91, 30)    => [0.705882, 0.796078, 0.952941]\n",
       "  (100, 10)   => [0.670588, 0.772549, 0.94902]\n",
       "  (-4, 60)    => [0.423529, 0.752941, 0.4]\n",
       "  (-97, -69)  => [0.533333, 0.678431, 0.92549]\n",
       "  (-2, 38)    => [0.211765, 0.458824, 0.215686]\n",
       "  (-35, 15)   => [0.341176, 0.686275, 0.345098]\n",
       "  (-92, 67)   => [0.898039, 0.482353, 0.337255]\n",
       "  (-44, 77)   => [0.788235, 0.854902, 0.968627]\n",
       "  (70, -16)   => [0.631373, 0.741176, 0.937255]\n",
       "  (57, -60)   => [0.215686, 0.34902, 0.239216]\n",
       "  (-92, 7)    => [0.666667, 0.768627, 0.94902]\n",
       "  (-55, -118) => [0.447059, 0.623529, 0.905882]\n",
       "  (91, 97)    => [0.254902, 0.286275, 0.298039]\n",
       "  (-82, 102)  => [0.827451, 0.886275, 0.976471]\n",
       "  ⋮           => ⋮"
      ]
     },
     "execution_count": 11,
     "metadata": {},
     "output_type": "execute_result"
    }
   ],
   "source": [
    "image = df_to_image(df)"
   ]
  },
  {
   "cell_type": "code",
   "execution_count": 12,
   "id": "5d1dc7ef-55ab-4b1b-829a-7038d4771cf3",
   "metadata": {},
   "outputs": [
    {
     "name": "stdout",
     "output_type": "stream",
     "text": [
      "Min x: -128\n",
      "Min x: 128\n",
      "Min y: -128\n",
      "Min y: 128\n"
     ]
    }
   ],
   "source": [
    "println(\"Min x: \", min(df.x...))\n",
    "println(\"Min x: \", max(df.x...))\n",
    "println(\"Min y: \", min(df.y...))\n",
    "println(\"Min y: \", max(df.y...))"
   ]
  },
  {
   "cell_type": "code",
   "execution_count": 13,
   "id": "fbd75d90-2d31-4654-9d54-80d81994da18",
   "metadata": {},
   "outputs": [
    {
     "data": {
      "text/plain": [
       "(0, 3)"
      ]
     },
     "execution_count": 13,
     "metadata": {},
     "output_type": "execute_result"
    }
   ],
   "source": [
    "function get_position(config)\n",
    "    return reduce((p, q) -> (p[1] + q[1], p[2] + q[2]), config; init= (0, 0))\n",
    "end\n",
    "\n",
    "config = [[4, 0], [-2, 2], [-1, 0], [-1, 1]]\n",
    "\n",
    "get_position(config)"
   ]
  },
  {
   "cell_type": "code",
   "execution_count": 14,
   "id": "aac904a4-7272-409c-9ff1-602e401ce8e0",
   "metadata": {},
   "outputs": [
    {
     "data": {
      "text/plain": [
       "get_square (generic function with 1 method)"
      ]
     },
     "execution_count": 14,
     "metadata": {},
     "output_type": "execute_result"
    }
   ],
   "source": [
    "function rotate_link(vector, direction)\n",
    "    x, y = vector\n",
    "    if direction == 1  # counter-clockwise\n",
    "        if y >= x && y > -x\n",
    "            x -= 1\n",
    "        elseif y > x && y <= -x\n",
    "            y -= 1\n",
    "        elseif y <= x && y < -x\n",
    "            x += 1\n",
    "        else\n",
    "            y += 1\n",
    "        end\n",
    "    elseif direction == -1  # clockwise\n",
    "        if y > x && y >= -x\n",
    "            x += 1\n",
    "        elseif y >= x && y < -x\n",
    "            y += 1\n",
    "        elseif y < x && y <= -x\n",
    "            x -= 1\n",
    "        else\n",
    "            y -= 1\n",
    "        end\n",
    "    end\n",
    "    return [x, y]\n",
    "end\n",
    "\n",
    "\n",
    "function rotate(config, i, direction)\n",
    "    new_config = deepcopy(config)\n",
    "    new_config[i] = rotate_link(config[i], direction)\n",
    "    return new_config\n",
    "end\n",
    "\n",
    "\n",
    "function get_square(link_length)\n",
    "    link = (link_length, 0)\n",
    "    coords = [link]\n",
    "    for _ in 1:(8 * link_length - 1)\n",
    "        link = rotate_link(link, direction=1)\n",
    "        push!(coords, link)\n",
    "    end\n",
    "    return coords\n",
    "end"
   ]
  },
  {
   "cell_type": "code",
   "execution_count": 15,
   "id": "ead6bb95-beb4-4ec7-bde4-02903e758ba8",
   "metadata": {},
   "outputs": [
    {
     "name": "stdout",
     "output_type": "stream",
     "text": [
      "[[4, 0], [-2, 2], [-1, 0], [-1, 1]]\n",
      "[[4, 1], [-2, 2], [-1, 0], [-1, 1]]\n",
      "[[4, 2], [-2, 2], [-1, 0], [-1, 1]]\n",
      "[[4, 3], [-2, 2], [-1, 0], [-1, 1]]\n",
      "[[4, 4], [-2, 2], [-1, 0], [-1, 1]]\n",
      "[[3, 4], [-2, 2], [-1, 0], [-1, 1]]\n",
      "[[2, 4], [-2, 2], [-1, 0], [-1, 1]]\n",
      "[[1, 4], [-2, 2], [-1, 0], [-1, 1]]\n",
      "[[0, 4], [-2, 2], [-1, 0], [-1, 1]]\n",
      "[[-1, 4], [-2, 2], [-1, 0], [-1, 1]]\n",
      "[[-2, 4], [-2, 2], [-1, 0], [-1, 1]]\n",
      "[[-3, 4], [-2, 2], [-1, 0], [-1, 1]]\n",
      "[[-4, 4], [-2, 2], [-1, 0], [-1, 1]]\n",
      "[[-4, 3], [-2, 2], [-1, 0], [-1, 1]]\n",
      "[[-4, 2], [-2, 2], [-1, 0], [-1, 1]]\n",
      "[[-4, 1], [-2, 2], [-1, 0], [-1, 1]]\n"
     ]
    }
   ],
   "source": [
    "for _ in 1:16\n",
    "    println(config)\n",
    "    config = rotate(config, 1, 1)\n",
    "end"
   ]
  },
  {
   "cell_type": "code",
   "execution_count": 16,
   "id": "a009b4bf-9beb-4b19-ab6e-8949ff0b4d73",
   "metadata": {},
   "outputs": [
    {
     "data": {
      "text/plain": [
       "4-element Vector{Vector{Int64}}:\n",
       " [4, 0]\n",
       " [-2, 2]\n",
       " [-1, 0]\n",
       " [-1, 1]"
      ]
     },
     "execution_count": 16,
     "metadata": {},
     "output_type": "execute_result"
    }
   ],
   "source": [
    "config = [[4, 0], [-2, 2], [-1, 0], [-1, 1]]"
   ]
  },
  {
   "cell_type": "code",
   "execution_count": 17,
   "id": "ba007b81-d06c-4ee9-ab68-41e2a4615c6f",
   "metadata": {},
   "outputs": [
    {
     "data": {
      "text/plain": [
       "get_neighbors (generic function with 1 method)"
      ]
     },
     "execution_count": 17,
     "metadata": {},
     "output_type": "execute_result"
    }
   ],
   "source": [
    "function get_neighbors(config)::Vector{Vector{Vector{Int16}}}\n",
    "    directions = Iterators.product([[-1, 0, 1] for _ in 1:length(config)]...) |> collect |> vec\n",
    "    list_directions = [enumerate(d) |> collect for d in directions]\n",
    "    \n",
    "    list_rotate = [reduce((x, y) -> rotate(x, y...), d; init=config) for d in list_directions]\n",
    "    filter!(e -> e != config, list_rotate)\n",
    "    \n",
    "    return list_rotate\n",
    "end"
   ]
  },
  {
   "cell_type": "code",
   "execution_count": 18,
   "id": "b3ab2ea9-8760-44c8-b703-7a139fd7d18b",
   "metadata": {},
   "outputs": [
    {
     "data": {
      "text/plain": [
       "80-element Vector{Vector{Vector{Int16}}}:\n",
       " [[4, -1], [-1, 2], [-1, 1], [0, 1]]\n",
       " [[4, 0], [-1, 2], [-1, 1], [0, 1]]\n",
       " [[4, 1], [-1, 2], [-1, 1], [0, 1]]\n",
       " [[4, -1], [-2, 2], [-1, 1], [0, 1]]\n",
       " [[4, 0], [-2, 2], [-1, 1], [0, 1]]\n",
       " [[4, 1], [-2, 2], [-1, 1], [0, 1]]\n",
       " [[4, -1], [-2, 1], [-1, 1], [0, 1]]\n",
       " [[4, 0], [-2, 1], [-1, 1], [0, 1]]\n",
       " [[4, 1], [-2, 1], [-1, 1], [0, 1]]\n",
       " [[4, -1], [-1, 2], [-1, 0], [0, 1]]\n",
       " [[4, 0], [-1, 2], [-1, 0], [0, 1]]\n",
       " [[4, 1], [-1, 2], [-1, 0], [0, 1]]\n",
       " [[4, -1], [-2, 2], [-1, 0], [0, 1]]\n",
       " ⋮\n",
       " [[4, -1], [-2, 1], [-1, 0], [-1, 0]]\n",
       " [[4, 0], [-2, 1], [-1, 0], [-1, 0]]\n",
       " [[4, 1], [-2, 1], [-1, 0], [-1, 0]]\n",
       " [[4, -1], [-1, 2], [-1, -1], [-1, 0]]\n",
       " [[4, 0], [-1, 2], [-1, -1], [-1, 0]]\n",
       " [[4, 1], [-1, 2], [-1, -1], [-1, 0]]\n",
       " [[4, -1], [-2, 2], [-1, -1], [-1, 0]]\n",
       " [[4, 0], [-2, 2], [-1, -1], [-1, 0]]\n",
       " [[4, 1], [-2, 2], [-1, -1], [-1, 0]]\n",
       " [[4, -1], [-2, 1], [-1, -1], [-1, 0]]\n",
       " [[4, 0], [-2, 1], [-1, -1], [-1, 0]]\n",
       " [[4, 1], [-2, 1], [-1, -1], [-1, 0]]"
      ]
     },
     "execution_count": 18,
     "metadata": {},
     "output_type": "execute_result"
    }
   ],
   "source": [
    "get_neighbors(config)"
   ]
  },
  {
   "cell_type": "code",
   "execution_count": 19,
   "id": "0eb16117-9b07-4c2e-9fb2-f15f31ae560f",
   "metadata": {},
   "outputs": [
    {
     "data": {
      "text/plain": [
       "total_cost (generic function with 1 method)"
      ]
     },
     "execution_count": 19,
     "metadata": {},
     "output_type": "execute_result"
    }
   ],
   "source": [
    "function reconfiguration_cost(from_config, to_config)\n",
    "    nlinks = length(from_config)\n",
    "    mat_from = hcat(from_config...)\n",
    "    mat_to = hcat(to_config...)\n",
    "    abs_diff = abs.(mat_from - mat_to)\n",
    "    \n",
    "    return sqrt(sum(abs_diff))\n",
    "end\n",
    "\n",
    "function color_cost(from_position, to_position, image, color_scale=3.0)\n",
    "    return sum(abs.(image[from_position] - image[to_position])) * color_scale\n",
    "end\n",
    "\n",
    "function step_cost(from_config, to_config, image)\n",
    "    from_position = get_position(from_config)\n",
    "    to_position = get_position(to_config)\n",
    "    \n",
    "    return reconfiguration_cost(from_config, to_config) + color_cost(from_position, to_position, image)\n",
    "end\n",
    "\n",
    "function total_cost(path, image)\n",
    "    return reduce(\n",
    "        (cost, pair) -> cost + step_cost(pair[begin], pair[end], image),\n",
    "        zip(path[begin:end-1], path[begin+1:end]) |> collect;\n",
    "        init=0,\n",
    "    )\n",
    "end"
   ]
  },
  {
   "cell_type": "code",
   "execution_count": 20,
   "id": "39f5829c-19cd-420e-a692-143dded3c5ba",
   "metadata": {},
   "outputs": [
    {
     "data": {
      "text/plain": [
       "get_angle (generic function with 1 method)"
      ]
     },
     "execution_count": 20,
     "metadata": {},
     "output_type": "execute_result"
    }
   ],
   "source": [
    "function get_direction(u, v)\n",
    "    direction = sign(LinearAlgebra.cross([u..., 0], [v...,0])[end])\n",
    "    \n",
    "    if direction==0 && LinearAlgebra.dot(u, v) < 0\n",
    "        direction=1\n",
    "    end\n",
    "    \n",
    "    return direction\n",
    "end\n",
    "\n",
    "function get_angle(u, v)\n",
    "    cross_prod = LinearAlgebra.cross([u..., 0], [v...,0])[end]\n",
    "    dot_prod = LinearAlgebra.dot(u, v)\n",
    "    return rad2deg(atan(cross_prod, dot_prod))\n",
    "end "
   ]
  },
  {
   "cell_type": "code",
   "execution_count": 21,
   "id": "d20ebffc-f8ee-4255-833a-45ec979dfe00",
   "metadata": {},
   "outputs": [
    {
     "data": {
      "text/plain": [
       "get_path_to_point (generic function with 1 method)"
      ]
     },
     "execution_count": 21,
     "metadata": {},
     "output_type": "execute_result"
    }
   ],
   "source": [
    "function get_path_to_point(config, point)\n",
    "    path = [config]\n",
    "    \n",
    "    \n",
    "    for i in 1:length(config)\n",
    "        link = config[i]\n",
    "        base = begin \n",
    "            if i==1\n",
    "                get_position([])\n",
    "            else\n",
    "                get_position(config[begin:(i-1)])\n",
    "            end\n",
    "        end\n",
    "        relbase = [point[1] - base[1], point[2] - base[2]]\n",
    "        position = get_position(config[begin:i])\n",
    "        relpos = [point[1] - position[1], point[2] - position[2]]\n",
    "\n",
    "        radius = reduce((r, link) -> r + max(abs.(link)...), config[i+1:end]; init=0)\n",
    "        \n",
    "        if radius==1 && relpos==[0,0]\n",
    "            config = rotate(config, i, 1)\n",
    "            if get_position(config) == Tuple(point)\n",
    "                push!(path, config)\n",
    "                break\n",
    "            else\n",
    "                continue\n",
    "            end\n",
    "        end\n",
    "        \n",
    "    \n",
    "            \n",
    "        while max(abs.(relpos)...) > radius\n",
    "            direction = get_direction(link, relbase)\n",
    "            config = rotate(config, i, direction)\n",
    "            push!(path, config)\n",
    "            link = config[i]\n",
    "            base = begin \n",
    "                if i==1\n",
    "                    get_position([])\n",
    "                else\n",
    "                    get_position(config[begin:(i-1)])\n",
    "                end\n",
    "            end\n",
    "            \n",
    "            relbase = [point[1] - base[1], point[2] - base[2]]\n",
    "            position = get_position(config[begin:i])\n",
    "            relpos = [point[1] - position[1], point[2] - position[2]]\n",
    "\n",
    "            radius = reduce((r, link) -> r + max(abs.(link)...), config[i+1:end]; init=0)\n",
    "        end\n",
    "    end\n",
    "    \n",
    "    if get_position(path[end]) != Tuple(point)\n",
    "        throw(ErrorException(\"Something went wrong!\"))\n",
    "    end\n",
    "    return path\n",
    "end"
   ]
  },
  {
   "cell_type": "code",
   "execution_count": 22,
   "id": "33859db1-1bab-4c31-9bc5-4b9706858b94",
   "metadata": {},
   "outputs": [
    {
     "data": {
      "text/plain": [
       "get_path_to_configuration (generic function with 1 method)"
      ]
     },
     "execution_count": 22,
     "metadata": {},
     "output_type": "execute_result"
    }
   ],
   "source": [
    "function get_path_to_configuration(from_config, to_config)\n",
    "    path = [from_config]\n",
    "    config = deepcopy(from_config)\n",
    "    while config != to_config\n",
    "        for i in 1:length(config)\n",
    "            config = rotate(config, i, get_direction(config[i], to_config[i]))\n",
    "        end\n",
    "        push!(path, config)\n",
    "    end\n",
    "    \n",
    "    if path[end] != to_config\n",
    "        throw(ErrorException(\"Something went wrong!\"))\n",
    "    end\n",
    "\n",
    "    return path\n",
    "end"
   ]
  },
  {
   "cell_type": "code",
   "execution_count": 23,
   "id": "fb23c824-66d8-49f7-9b6c-a182c1c24647",
   "metadata": {},
   "outputs": [
    {
     "data": {
      "text/plain": [
       "quick_start_solution (generic function with 1 method)"
      ]
     },
     "execution_count": 23,
     "metadata": {},
     "output_type": "execute_result"
    }
   ],
   "source": [
    "function quick_start_solution()\n",
    "    origin = [[64, 0], [-32, 0], [-16, 0], [-8, 0], [-4, 0], [-2, 0], [-1, 0], [-1, 0]]\n",
    "    n = origin[begin][begin] * 2\n",
    "\n",
    "    points = Iterators.product(-n:n |> collect, -n:n |> collect) |> collect |> vec\n",
    "    sort!(points) # total_cost 166305 in Python :D\n",
    "    \n",
    "    path = [origin]\n",
    "    for p in ProgressBar(points)\n",
    "        config = path[end]\n",
    "        append!(path, get_path_to_point(config, p)[2:end])\n",
    "    end\n",
    "\n",
    "    append!(path, get_path_to_configuration(path[end], origin)[2:end])\n",
    "    \n",
    "    return path\n",
    "end"
   ]
  },
  {
   "cell_type": "code",
   "execution_count": 24,
   "id": "9018a1ba-29da-4504-a0dc-8d8352f4d146",
   "metadata": {},
   "outputs": [
    {
     "name": "stderr",
     "output_type": "stream",
     "text": [
      "0.0%┣                                           ┫ 0/66.0k [00:00<-55:-3, -0s/it]\n",
      "0.0%┣                                        ┫ 1/66.0k [00:00<Inf:Inf, InfGs/it]\n",
      "7.1%┣██▊                                   ┫ 4.7k/66.0k [00:00<00:03, 19.7kit/s]\n",
      "15.6%┣█████▋                              ┫ 10.3k/66.0k [00:00<00:02, 34.8kit/s]\n",
      "25.3%┣█████████▏                          ┫ 16.7k/66.0k [00:00<00:01, 48.4kit/s]\n",
      "32.2%┣███████████▋                        ┫ 21.2k/66.0k [00:00<00:01, 53.7kit/s]\n",
      "38.7%┣██████████████                      ┫ 25.6k/66.0k [00:00<00:01, 57.3kit/s]\n",
      "48.6%┣█████████████████▌                  ┫ 32.1k/66.0k [00:00<00:01, 64.6kit/s]\n",
      "53.6%┣███████████████████▎                ┫ 35.4k/66.0k [00:01<00:00, 64.7kit/s]\n",
      "63.0%┣██████████████████████▊             ┫ 41.6k/66.0k [00:01<00:00, 69.7kit/s]\n",
      "67.3%┣████████████████████████▎           ┫ 44.4k/66.0k [00:01<00:00, 68.6kit/s]\n",
      "77.0%┣███████████████████████████▊        ┫ 50.8k/66.0k [00:01<00:00, 72.8kit/s]\n",
      "77.8%┣████████████████████████████        ┫ 51.4k/66.0k [00:01<00:00, 65.2kit/s]\n",
      "87.6%┣███████████████████████████████▌    ┫ 57.8k/66.0k [00:01<00:00, 68.9kit/s]\n",
      "\u001b[1A"
     ]
    },
    {
     "name": "stdout",
     "output_type": "stream",
     "text": [
      "  0.956044 seconds (10.39 M allocations: 763.603 MiB, 28.33% gc time, 15.34% compilation time)\n"
     ]
    },
    {
     "name": "stderr",
     "output_type": "stream",
     "text": [
      "91.2%┣████████████████████████████████▉   ┫ 60.2k/66.0k [00:01<00:00, 63.8kit/s]\n",
      "100.0%┣███████████████████████████████████┫ 66.0k/66.0k [00:01<00:00, 66.4kit/s]\n"
     ]
    },
    {
     "data": {
      "text/plain": [
       "133604-element Vector{Vector{Vector{Int64}}}:\n",
       " [[64, 0], [-32, 0], [-16, 0], [-8, 0], [-4, 0], [-2, 0], [-1, 0], [-1, 0]]\n",
       " [[64, -1], [-32, 0], [-16, 0], [-8, 0], [-4, 0], [-2, 0], [-1, 0], [-1, 0]]\n",
       " [[64, -2], [-32, 0], [-16, 0], [-8, 0], [-4, 0], [-2, 0], [-1, 0], [-1, 0]]\n",
       " [[64, -3], [-32, 0], [-16, 0], [-8, 0], [-4, 0], [-2, 0], [-1, 0], [-1, 0]]\n",
       " [[64, -4], [-32, 0], [-16, 0], [-8, 0], [-4, 0], [-2, 0], [-1, 0], [-1, 0]]\n",
       " [[64, -5], [-32, 0], [-16, 0], [-8, 0], [-4, 0], [-2, 0], [-1, 0], [-1, 0]]\n",
       " [[64, -6], [-32, 0], [-16, 0], [-8, 0], [-4, 0], [-2, 0], [-1, 0], [-1, 0]]\n",
       " [[64, -7], [-32, 0], [-16, 0], [-8, 0], [-4, 0], [-2, 0], [-1, 0], [-1, 0]]\n",
       " [[64, -8], [-32, 0], [-16, 0], [-8, 0], [-4, 0], [-2, 0], [-1, 0], [-1, 0]]\n",
       " [[64, -9], [-32, 0], [-16, 0], [-8, 0], [-4, 0], [-2, 0], [-1, 0], [-1, 0]]\n",
       " [[64, -10], [-32, 0], [-16, 0], [-8, 0], [-4, 0], [-2, 0], [-1, 0], [-1, 0]]\n",
       " [[64, -11], [-32, 0], [-16, 0], [-8, 0], [-4, 0], [-2, 0], [-1, 0], [-1, 0]]\n",
       " [[64, -12], [-32, 0], [-16, 0], [-8, 0], [-4, 0], [-2, 0], [-1, 0], [-1, 0]]\n",
       " ⋮\n",
       " [[64, 0], [-32, 11], [-16, 0], [-8, 0], [-4, 0], [-2, 0], [-1, 0], [-1, 0]]\n",
       " [[64, 0], [-32, 10], [-16, 0], [-8, 0], [-4, 0], [-2, 0], [-1, 0], [-1, 0]]\n",
       " [[64, 0], [-32, 9], [-16, 0], [-8, 0], [-4, 0], [-2, 0], [-1, 0], [-1, 0]]\n",
       " [[64, 0], [-32, 8], [-16, 0], [-8, 0], [-4, 0], [-2, 0], [-1, 0], [-1, 0]]\n",
       " [[64, 0], [-32, 7], [-16, 0], [-8, 0], [-4, 0], [-2, 0], [-1, 0], [-1, 0]]\n",
       " [[64, 0], [-32, 6], [-16, 0], [-8, 0], [-4, 0], [-2, 0], [-1, 0], [-1, 0]]\n",
       " [[64, 0], [-32, 5], [-16, 0], [-8, 0], [-4, 0], [-2, 0], [-1, 0], [-1, 0]]\n",
       " [[64, 0], [-32, 4], [-16, 0], [-8, 0], [-4, 0], [-2, 0], [-1, 0], [-1, 0]]\n",
       " [[64, 0], [-32, 3], [-16, 0], [-8, 0], [-4, 0], [-2, 0], [-1, 0], [-1, 0]]\n",
       " [[64, 0], [-32, 2], [-16, 0], [-8, 0], [-4, 0], [-2, 0], [-1, 0], [-1, 0]]\n",
       " [[64, 0], [-32, 1], [-16, 0], [-8, 0], [-4, 0], [-2, 0], [-1, 0], [-1, 0]]\n",
       " [[64, 0], [-32, 0], [-16, 0], [-8, 0], [-4, 0], [-2, 0], [-1, 0], [-1, 0]]"
      ]
     },
     "execution_count": 24,
     "metadata": {},
     "output_type": "execute_result"
    }
   ],
   "source": [
    "@time path=quick_start_solution()"
   ]
  },
  {
   "cell_type": "code",
   "execution_count": 25,
   "id": "ff43d683-2269-4820-8e86-66c2a49f1754",
   "metadata": {},
   "outputs": [
    {
     "data": {
      "text/plain": [
       "166305.28443298"
      ]
     },
     "execution_count": 25,
     "metadata": {},
     "output_type": "execute_result"
    }
   ],
   "source": [
    "total_cost(path, image)"
   ]
  },
  {
   "cell_type": "code",
   "execution_count": 26,
   "id": "07937fd7-1107-4099-8e7a-f87d4f4e23ff",
   "metadata": {},
   "outputs": [
    {
     "data": {
      "text/plain": [
       "config_to_string (generic function with 1 method)"
      ]
     },
     "execution_count": 26,
     "metadata": {},
     "output_type": "execute_result"
    }
   ],
   "source": [
    "function config_to_string(config)\n",
    "    return join([join(v, ' ') for v in config], ';')\n",
    "end"
   ]
  },
  {
   "cell_type": "code",
   "execution_count": 27,
   "id": "b1a968cf-5e82-4303-987b-ee31b01aa85b",
   "metadata": {},
   "outputs": [
    {
     "data": {
      "text/plain": [
       "\"64 0;-32 0;-16 0;-8 0;-4 0;-2 0;-1 0;-1 0\""
      ]
     },
     "execution_count": 27,
     "metadata": {},
     "output_type": "execute_result"
    }
   ],
   "source": [
    "config_to_string(path[begin])"
   ]
  },
  {
   "cell_type": "code",
   "execution_count": 28,
   "id": "1deed30a-f131-43bc-8bf7-cf1f1d7ab665",
   "metadata": {},
   "outputs": [
    {
     "data": {
      "text/html": [
       "<div><div style = \"float: left;\"><span>133604×1 DataFrame</span></div><div style = \"float: right;\"><span style = \"font-style: italic;\">133579 rows omitted</span></div><div style = \"clear: both;\"></div></div><div class = \"data-frame\" style = \"overflow-x: scroll;\"><table class = \"data-frame\" style = \"margin-bottom: 6px;\"><thead><tr class = \"header\"><th class = \"rowNumber\" style = \"font-weight: bold; text-align: right;\">Row</th><th style = \"text-align: left;\">configuration</th></tr><tr class = \"subheader headerLastRow\"><th class = \"rowNumber\" style = \"font-weight: bold; text-align: right;\"></th><th title = \"String\" style = \"text-align: left;\">String</th></tr></thead><tbody><tr><td class = \"rowNumber\" style = \"font-weight: bold; text-align: right;\">1</td><td style = \"text-align: left;\">64 0;-32 0;-16 0;-8 0;-4 0;-2 0;-1 0;-1 0</td></tr><tr><td class = \"rowNumber\" style = \"font-weight: bold; text-align: right;\">2</td><td style = \"text-align: left;\">64 -1;-32 0;-16 0;-8 0;-4 0;-2 0;-1 0;-1 0</td></tr><tr><td class = \"rowNumber\" style = \"font-weight: bold; text-align: right;\">3</td><td style = \"text-align: left;\">64 -2;-32 0;-16 0;-8 0;-4 0;-2 0;-1 0;-1 0</td></tr><tr><td class = \"rowNumber\" style = \"font-weight: bold; text-align: right;\">4</td><td style = \"text-align: left;\">64 -3;-32 0;-16 0;-8 0;-4 0;-2 0;-1 0;-1 0</td></tr><tr><td class = \"rowNumber\" style = \"font-weight: bold; text-align: right;\">5</td><td style = \"text-align: left;\">64 -4;-32 0;-16 0;-8 0;-4 0;-2 0;-1 0;-1 0</td></tr><tr><td class = \"rowNumber\" style = \"font-weight: bold; text-align: right;\">6</td><td style = \"text-align: left;\">64 -5;-32 0;-16 0;-8 0;-4 0;-2 0;-1 0;-1 0</td></tr><tr><td class = \"rowNumber\" style = \"font-weight: bold; text-align: right;\">7</td><td style = \"text-align: left;\">64 -6;-32 0;-16 0;-8 0;-4 0;-2 0;-1 0;-1 0</td></tr><tr><td class = \"rowNumber\" style = \"font-weight: bold; text-align: right;\">8</td><td style = \"text-align: left;\">64 -7;-32 0;-16 0;-8 0;-4 0;-2 0;-1 0;-1 0</td></tr><tr><td class = \"rowNumber\" style = \"font-weight: bold; text-align: right;\">9</td><td style = \"text-align: left;\">64 -8;-32 0;-16 0;-8 0;-4 0;-2 0;-1 0;-1 0</td></tr><tr><td class = \"rowNumber\" style = \"font-weight: bold; text-align: right;\">10</td><td style = \"text-align: left;\">64 -9;-32 0;-16 0;-8 0;-4 0;-2 0;-1 0;-1 0</td></tr><tr><td class = \"rowNumber\" style = \"font-weight: bold; text-align: right;\">11</td><td style = \"text-align: left;\">64 -10;-32 0;-16 0;-8 0;-4 0;-2 0;-1 0;-1 0</td></tr><tr><td class = \"rowNumber\" style = \"font-weight: bold; text-align: right;\">12</td><td style = \"text-align: left;\">64 -11;-32 0;-16 0;-8 0;-4 0;-2 0;-1 0;-1 0</td></tr><tr><td class = \"rowNumber\" style = \"font-weight: bold; text-align: right;\">13</td><td style = \"text-align: left;\">64 -12;-32 0;-16 0;-8 0;-4 0;-2 0;-1 0;-1 0</td></tr><tr><td style = \"text-align: right;\">&vellip;</td><td style = \"text-align: right;\">&vellip;</td></tr><tr><td class = \"rowNumber\" style = \"font-weight: bold; text-align: right;\">133593</td><td style = \"text-align: left;\">64 0;-32 11;-16 0;-8 0;-4 0;-2 0;-1 0;-1 0</td></tr><tr><td class = \"rowNumber\" style = \"font-weight: bold; text-align: right;\">133594</td><td style = \"text-align: left;\">64 0;-32 10;-16 0;-8 0;-4 0;-2 0;-1 0;-1 0</td></tr><tr><td class = \"rowNumber\" style = \"font-weight: bold; text-align: right;\">133595</td><td style = \"text-align: left;\">64 0;-32 9;-16 0;-8 0;-4 0;-2 0;-1 0;-1 0</td></tr><tr><td class = \"rowNumber\" style = \"font-weight: bold; text-align: right;\">133596</td><td style = \"text-align: left;\">64 0;-32 8;-16 0;-8 0;-4 0;-2 0;-1 0;-1 0</td></tr><tr><td class = \"rowNumber\" style = \"font-weight: bold; text-align: right;\">133597</td><td style = \"text-align: left;\">64 0;-32 7;-16 0;-8 0;-4 0;-2 0;-1 0;-1 0</td></tr><tr><td class = \"rowNumber\" style = \"font-weight: bold; text-align: right;\">133598</td><td style = \"text-align: left;\">64 0;-32 6;-16 0;-8 0;-4 0;-2 0;-1 0;-1 0</td></tr><tr><td class = \"rowNumber\" style = \"font-weight: bold; text-align: right;\">133599</td><td style = \"text-align: left;\">64 0;-32 5;-16 0;-8 0;-4 0;-2 0;-1 0;-1 0</td></tr><tr><td class = \"rowNumber\" style = \"font-weight: bold; text-align: right;\">133600</td><td style = \"text-align: left;\">64 0;-32 4;-16 0;-8 0;-4 0;-2 0;-1 0;-1 0</td></tr><tr><td class = \"rowNumber\" style = \"font-weight: bold; text-align: right;\">133601</td><td style = \"text-align: left;\">64 0;-32 3;-16 0;-8 0;-4 0;-2 0;-1 0;-1 0</td></tr><tr><td class = \"rowNumber\" style = \"font-weight: bold; text-align: right;\">133602</td><td style = \"text-align: left;\">64 0;-32 2;-16 0;-8 0;-4 0;-2 0;-1 0;-1 0</td></tr><tr><td class = \"rowNumber\" style = \"font-weight: bold; text-align: right;\">133603</td><td style = \"text-align: left;\">64 0;-32 1;-16 0;-8 0;-4 0;-2 0;-1 0;-1 0</td></tr><tr><td class = \"rowNumber\" style = \"font-weight: bold; text-align: right;\">133604</td><td style = \"text-align: left;\">64 0;-32 0;-16 0;-8 0;-4 0;-2 0;-1 0;-1 0</td></tr></tbody></table></div>"
      ],
      "text/latex": [
       "\\begin{tabular}{r|c}\n",
       "\t& configuration\\\\\n",
       "\t\\hline\n",
       "\t& String\\\\\n",
       "\t\\hline\n",
       "\t1 & 64 0;-32 0;-16 0;-8 0;-4 0;-2 0;-1 0;-1 0 \\\\\n",
       "\t2 & 64 -1;-32 0;-16 0;-8 0;-4 0;-2 0;-1 0;-1 0 \\\\\n",
       "\t3 & 64 -2;-32 0;-16 0;-8 0;-4 0;-2 0;-1 0;-1 0 \\\\\n",
       "\t4 & 64 -3;-32 0;-16 0;-8 0;-4 0;-2 0;-1 0;-1 0 \\\\\n",
       "\t5 & 64 -4;-32 0;-16 0;-8 0;-4 0;-2 0;-1 0;-1 0 \\\\\n",
       "\t6 & 64 -5;-32 0;-16 0;-8 0;-4 0;-2 0;-1 0;-1 0 \\\\\n",
       "\t7 & 64 -6;-32 0;-16 0;-8 0;-4 0;-2 0;-1 0;-1 0 \\\\\n",
       "\t8 & 64 -7;-32 0;-16 0;-8 0;-4 0;-2 0;-1 0;-1 0 \\\\\n",
       "\t9 & 64 -8;-32 0;-16 0;-8 0;-4 0;-2 0;-1 0;-1 0 \\\\\n",
       "\t10 & 64 -9;-32 0;-16 0;-8 0;-4 0;-2 0;-1 0;-1 0 \\\\\n",
       "\t11 & 64 -10;-32 0;-16 0;-8 0;-4 0;-2 0;-1 0;-1 0 \\\\\n",
       "\t12 & 64 -11;-32 0;-16 0;-8 0;-4 0;-2 0;-1 0;-1 0 \\\\\n",
       "\t13 & 64 -12;-32 0;-16 0;-8 0;-4 0;-2 0;-1 0;-1 0 \\\\\n",
       "\t14 & 64 -13;-32 0;-16 0;-8 0;-4 0;-2 0;-1 0;-1 0 \\\\\n",
       "\t15 & 64 -14;-32 0;-16 0;-8 0;-4 0;-2 0;-1 0;-1 0 \\\\\n",
       "\t16 & 64 -15;-32 0;-16 0;-8 0;-4 0;-2 0;-1 0;-1 0 \\\\\n",
       "\t17 & 64 -16;-32 0;-16 0;-8 0;-4 0;-2 0;-1 0;-1 0 \\\\\n",
       "\t18 & 64 -17;-32 0;-16 0;-8 0;-4 0;-2 0;-1 0;-1 0 \\\\\n",
       "\t19 & 64 -18;-32 0;-16 0;-8 0;-4 0;-2 0;-1 0;-1 0 \\\\\n",
       "\t20 & 64 -19;-32 0;-16 0;-8 0;-4 0;-2 0;-1 0;-1 0 \\\\\n",
       "\t21 & 64 -20;-32 0;-16 0;-8 0;-4 0;-2 0;-1 0;-1 0 \\\\\n",
       "\t22 & 64 -21;-32 0;-16 0;-8 0;-4 0;-2 0;-1 0;-1 0 \\\\\n",
       "\t23 & 64 -22;-32 0;-16 0;-8 0;-4 0;-2 0;-1 0;-1 0 \\\\\n",
       "\t24 & 64 -23;-32 0;-16 0;-8 0;-4 0;-2 0;-1 0;-1 0 \\\\\n",
       "\t25 & 64 -24;-32 0;-16 0;-8 0;-4 0;-2 0;-1 0;-1 0 \\\\\n",
       "\t26 & 64 -25;-32 0;-16 0;-8 0;-4 0;-2 0;-1 0;-1 0 \\\\\n",
       "\t27 & 64 -26;-32 0;-16 0;-8 0;-4 0;-2 0;-1 0;-1 0 \\\\\n",
       "\t28 & 64 -27;-32 0;-16 0;-8 0;-4 0;-2 0;-1 0;-1 0 \\\\\n",
       "\t29 & 64 -28;-32 0;-16 0;-8 0;-4 0;-2 0;-1 0;-1 0 \\\\\n",
       "\t30 & 64 -29;-32 0;-16 0;-8 0;-4 0;-2 0;-1 0;-1 0 \\\\\n",
       "\t$\\dots$ & $\\dots$ \\\\\n",
       "\\end{tabular}\n"
      ],
      "text/plain": [
       "\u001b[1m133604×1 DataFrame\u001b[0m\n",
       "\u001b[1m    Row \u001b[0m│\u001b[1m configuration                     \u001b[0m\n",
       "        │\u001b[90m String                            \u001b[0m\n",
       "────────┼───────────────────────────────────\n",
       "      1 │ 64 0;-32 0;-16 0;-8 0;-4 0;-2 0;…\n",
       "      2 │ 64 -1;-32 0;-16 0;-8 0;-4 0;-2 0…\n",
       "      3 │ 64 -2;-32 0;-16 0;-8 0;-4 0;-2 0…\n",
       "      4 │ 64 -3;-32 0;-16 0;-8 0;-4 0;-2 0…\n",
       "      5 │ 64 -4;-32 0;-16 0;-8 0;-4 0;-2 0…\n",
       "      6 │ 64 -5;-32 0;-16 0;-8 0;-4 0;-2 0…\n",
       "      7 │ 64 -6;-32 0;-16 0;-8 0;-4 0;-2 0…\n",
       "      8 │ 64 -7;-32 0;-16 0;-8 0;-4 0;-2 0…\n",
       "      9 │ 64 -8;-32 0;-16 0;-8 0;-4 0;-2 0…\n",
       "     10 │ 64 -9;-32 0;-16 0;-8 0;-4 0;-2 0…\n",
       "     11 │ 64 -10;-32 0;-16 0;-8 0;-4 0;-2 …\n",
       "   ⋮    │                 ⋮\n",
       " 133595 │ 64 0;-32 9;-16 0;-8 0;-4 0;-2 0;…\n",
       " 133596 │ 64 0;-32 8;-16 0;-8 0;-4 0;-2 0;…\n",
       " 133597 │ 64 0;-32 7;-16 0;-8 0;-4 0;-2 0;…\n",
       " 133598 │ 64 0;-32 6;-16 0;-8 0;-4 0;-2 0;…\n",
       " 133599 │ 64 0;-32 5;-16 0;-8 0;-4 0;-2 0;…\n",
       " 133600 │ 64 0;-32 4;-16 0;-8 0;-4 0;-2 0;…\n",
       " 133601 │ 64 0;-32 3;-16 0;-8 0;-4 0;-2 0;…\n",
       " 133602 │ 64 0;-32 2;-16 0;-8 0;-4 0;-2 0;…\n",
       " 133603 │ 64 0;-32 1;-16 0;-8 0;-4 0;-2 0;…\n",
       " 133604 │ 64 0;-32 0;-16 0;-8 0;-4 0;-2 0;…\n",
       "\u001b[36m                         133583 rows omitted\u001b[0m"
      ]
     },
     "execution_count": 28,
     "metadata": {},
     "output_type": "execute_result"
    }
   ],
   "source": [
    "submission = DataFrame((configuration=[config_to_string(p) for p in path]))"
   ]
  },
  {
   "cell_type": "code",
   "execution_count": 29,
   "id": "3d8af5e7-289f-41cc-9058-f22cf9bde35f",
   "metadata": {},
   "outputs": [
    {
     "data": {
      "text/plain": [
       "\"submission.csv\""
      ]
     },
     "execution_count": 29,
     "metadata": {},
     "output_type": "execute_result"
    }
   ],
   "source": [
    "CSV.write(\"submission.csv\", submission) "
   ]
  }
 ],
 "metadata": {
  "kernelspec": {
   "display_name": "Julia 1.8.0",
   "language": "julia",
   "name": "julia-1.8"
  },
  "language_info": {
   "file_extension": ".jl",
   "mimetype": "application/julia",
   "name": "julia",
   "version": "1.8.0"
  }
 },
 "nbformat": 4,
 "nbformat_minor": 5
}
